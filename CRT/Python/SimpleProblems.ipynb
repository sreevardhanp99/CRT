{
 "cells": [
  {
   "cell_type": "code",
   "execution_count": 2,
   "metadata": {},
   "outputs": [
    {
     "name": "stdout",
     "output_type": "stream",
     "text": [
      "2\n",
      "Prime\n"
     ]
    }
   ],
   "source": [
    "n = int(input())\n",
    "if n <=0:\n",
    "    print(\"Not a prime\")\n",
    "else:\n",
    "    for i in range(2,n):\n",
    "        if n % i ==0:\n",
    "            print(\"Not a prime\")\n",
    "            break\n",
    "    else:\n",
    "        print(\"Prime\")"
   ]
  },
  {
   "cell_type": "code",
   "execution_count": 4,
   "metadata": {},
   "outputs": [
    {
     "name": "stdout",
     "output_type": "stream",
     "text": [
      "3\n",
      "0\n",
      "1\n",
      "1\n"
     ]
    }
   ],
   "source": [
    "# a = 0\n",
    "# b = 1\n",
    "# n = int(input())\n",
    "# if n ==1:\n",
    "#     print(0)\n",
    "# else:\n",
    "#     print(a)\n",
    "#     print(b)\n",
    "#     for i in range(2,n):\n",
    "#         c = a+b\n",
    "#         a = b\n",
    "#         b = c\n",
    "#         print(c)"
   ]
  },
  {
   "cell_type": "code",
   "execution_count": 6,
   "metadata": {},
   "outputs": [
    {
     "name": "stdout",
     "output_type": "stream",
     "text": [
      "123\n",
      "Not palindrome\n"
     ]
    }
   ],
   "source": [
    "n = int(input())\n",
    "temp = n\n",
    "rev = 0\n",
    "while (n > 0):\n",
    "    r = n % 10\n",
    "    rev = rev * 10 + r\n",
    "    n = n // 10\n",
    "if temp ==rev:\n",
    "    print(\"palindrome\")\n",
    "else:\n",
    "    print(\"Not palindrome\")\n",
    "    "
   ]
  },
  {
   "cell_type": "code",
   "execution_count": 3,
   "metadata": {},
   "outputs": [
    {
     "name": "stdout",
     "output_type": "stream",
     "text": [
      "*****AREA CALCULATOR*****\n",
      "press 1 to get the area of square\n",
      "    press 2 to get the area of rectangle\n",
      "    press 3 to get the area of circle\n",
      "    press 4 to get the area of triangle\n",
      "    \n",
      "Enter a number between 1-4 : 1\n",
      "Enter the side of a square : 6\n",
      "Area of a square is :  36.0\n",
      "Do you want to try again with square ?\n",
      "no\n",
      "press 1 to get the area of square\n",
      "    press 2 to get the area of rectangle\n",
      "    press 3 to get the area of circle\n",
      "    press 4 to get the area of triangle\n",
      "    \n",
      "Enter a number between 1-4 : 9\n"
     ]
    }
   ],
   "source": [
    "\n",
    "\n",
    "print(\"*****AREA CALCULATOR*****\")\n",
    "\n",
    "while True:\n",
    "    print(\"\"\"press 1 to get the area of square\n",
    "    press 2 to get the area of rectangle\n",
    "    press 3 to get the area of circle\n",
    "    press 4 to get the area of triangle\n",
    "    \"\"\")\n",
    "    choice = int(input(\"Enter a number between 1-4 : \"))\n",
    "    \n",
    "    if choice == 1:\n",
    "        while True:\n",
    "            side = float(input(\"Enter the side of a square : \"))\n",
    "            area = side **2\n",
    "            print(\"Area of a square is : \",area)\n",
    "            repeat = input(\"Do you want to try again with square ?\\n\")\n",
    "            if repeat == \"no\":\n",
    "                break\n",
    "                \n",
    "    if choice == 2:\n",
    "        while True:\n",
    "            l = float(input(\"Enter the length of a rectangle : \"))\n",
    "            b = float(input(\"Enter the breadth of a rectangle : \"))\n",
    "\n",
    "            area = l * b\n",
    "            print(\"Area of a square is : \",area)\n",
    "            repeat = input(\"Do you want to try again with rectangle ?\\n\")\n",
    "            if repeat == \"no\":\n",
    "                break\n",
    "                \n",
    "    if choice == 3:\n",
    "        while True:\n",
    "            r = float(input(\"Enter the radius of a circle : \"))\n",
    "            area = 3.14 * (r*r)\n",
    "            print(\"Area of a square is : \",area)\n",
    "            repeat = input(\"Do you want to try again with circle ?\\n\")\n",
    "            if repeat == \"no\":\n",
    "                break\n",
    "    \n",
    "    if choice == 4:\n",
    "        while True:\n",
    "            l = float(input(\"Enter the length of a triangle : \"))\n",
    "            b = float(input(\"Enter the breadth of a triangle : \"))\n",
    "\n",
    "            area = 0.5 *(l * b)\n",
    "            print(\"Area of a square is : \",area)\n",
    "            repeat = input(\"Do you want to try again with triangle ?\\n\")\n",
    "            if repeat == \"no\":\n",
    "                break\n",
    "    if choice > 4:\n",
    "        break\n",
    "        \n",
    "    \n",
    "    "
   ]
  },
  {
   "cell_type": "code",
   "execution_count": null,
   "metadata": {},
   "outputs": [],
   "source": [
    "\n",
    "\n",
    "print(\"*****AREA CALCULATOR*****\")\n",
    "\n",
    "while True:\n",
    "    print(\"\"\"press 1 to get the area of square\n",
    "press 2 to get the area of rectangle\n",
    "press 3 to get the area of circle\n",
    "press 4 to get the area of triangle\n",
    "    \"\"\")\n",
    "    choice = int(input(\"Enter a number between 1-4 : \"))\n",
    "    \n",
    "    if choice == 1:\n",
    "        while True:\n",
    "            side = float(input(\"Enter the side of a square : \"))\n",
    "            area = side **2\n",
    "            print(\"Area of a square is : \",area)\n",
    "            repeat = input(\"Do you want to try again with square ?\\n\")\n",
    "            if repeat == \"no\":\n",
    "                break\n",
    "                \n",
    "    if choice == 2:\n",
    "        while True:\n",
    "            l = float(input(\"Enter the length of a rectangle : \"))\n",
    "            b = float(input(\"Enter the breadth of a rectangle : \"))\n",
    "\n",
    "            area = l * b\n",
    "            print(\"Area of a square is : \",area)\n",
    "            repeat = input(\"Do you want to try again with rectangle ?\\n\")\n",
    "            if repeat == \"no\":\n",
    "                break\n",
    "                \n",
    "    if choice == 3:\n",
    "        while True:\n",
    "            r = float(input(\"Enter the radius of a circle : \"))\n",
    "            area = 3.14 * (r*r)\n",
    "            print(\"Area of a square is : \",area)\n",
    "            repeat = input(\"Do you want to try again with circle ?\\n\")\n",
    "            if repeat == \"no\":\n",
    "                break\n",
    "    \n",
    "    if choice == 4:\n",
    "        while True:\n",
    "            l = float(input(\"Enter the length of a triangle : \"))\n",
    "            b = float(input(\"Enter the breadth of a triangle : \"))\n",
    "\n",
    "            area = 0.5 *(l * b)\n",
    "            print(\"Area of a square is : \",area)\n",
    "            repeat = input(\"Do you want to try again with triangle ?\\n\")\n",
    "            if repeat == \"no\":\n",
    "                break\n",
    "    repeat1 = input(\"Do you want to repeat the menu again ? \")\n",
    "    if repeat1 == \"no\":\n",
    "        break\n",
    "        \n",
    "    \n",
    "    "
   ]
  },
  {
   "cell_type": "code",
   "execution_count": null,
   "metadata": {},
   "outputs": [],
   "source": [
    "A = \"OOTD.YOLO.ASAP.BRG.GTG.OTW\"\n",
    "\n",
    "# 1. Write a program to separate the following string into comma(,) separated values\n",
    "# 2. Write a program to sort strings alphabetically in python\n",
    "# 3. Write a program to remove a given character from a string\n",
    "\n",
    "z =\"F.R.I.E.N.D.S.\"\n",
    "\n",
    "# 4. Write a program to remove dot(.) from the following string\n",
    "# 5. Write a program to check the number of occurence of string"
   ]
  },
  {
   "cell_type": "code",
   "execution_count": 12,
   "metadata": {},
   "outputs": [
    {
     "data": {
      "text/plain": [
       "['OOTD', 'YOLO', 'ASAP', 'BRG', 'GTG', 'OTW']"
      ]
     },
     "execution_count": 12,
     "metadata": {},
     "output_type": "execute_result"
    }
   ],
   "source": [
    "# 1. Write a program to separate the following string into comma(,) separated values\n",
    "\n",
    "A = \"OOTD.YOLO.ASAP.BRG.GTG.OTW\"\n",
    "b = A.split(\".\")\n",
    "b"
   ]
  },
  {
   "cell_type": "code",
   "execution_count": 10,
   "metadata": {},
   "outputs": [
    {
     "name": "stdout",
     "output_type": "stream",
     "text": [
      "Enter anything here : hello\n",
      "['e', 'h', 'l', 'l', 'o']\n"
     ]
    }
   ],
   "source": [
    "# 2. Write a program to sort strings alphabetically in python\n",
    "\n",
    "a = input(\"Enter anything here : \")\n",
    "b = sorted(a)\n",
    "print(b)"
   ]
  },
  {
   "cell_type": "code",
   "execution_count": 13,
   "metadata": {},
   "outputs": [
    {
     "name": "stdout",
     "output_type": "stream",
     "text": [
      "Hllo\n"
     ]
    }
   ],
   "source": [
    "# 3. Write a program to remove a given character from a string\n",
    "a = \"Hello\"\n",
    "b = a.replace(\"e\",\"\")\n",
    "print(b)"
   ]
  },
  {
   "cell_type": "code",
   "execution_count": 15,
   "metadata": {},
   "outputs": [
    {
     "data": {
      "text/plain": [
       "'FRIENDS'"
      ]
     },
     "execution_count": 15,
     "metadata": {},
     "output_type": "execute_result"
    }
   ],
   "source": [
    "z =\"F.R.I.E.N.D.S.\"\n",
    "\n",
    "# 4. Write a program to remove dot(.) from the following string\n",
    "\n",
    "B = z.replace(\".\",\"\")\n",
    "B"
   ]
  },
  {
   "cell_type": "code",
   "execution_count": 17,
   "metadata": {},
   "outputs": [
    {
     "name": "stdout",
     "output_type": "stream",
     "text": [
      "The number of times substring 'sea' is occuring is :  2\n"
     ]
    }
   ],
   "source": [
    "# 5. Write a program to check the number of occurence of string\n",
    "a = \"she shells seashells on the sea shore\"\n",
    "b = a.count(\"sea\")\n",
    "print(\"The number of times substring 'sea' is occuring is : \",b)"
   ]
  },
  {
   "cell_type": "code",
   "execution_count": null,
   "metadata": {},
   "outputs": [],
   "source": [
    "# 1. Take an input from a user as a string then, reverse it.\n",
    "# 2. Write a program to check if a string contains only digit\n",
    "# 3. Write a program to check if a string is palindrome\n",
    "# 4. Write a program to find number of vowels in a string\n",
    "# 5. Write a program to check if every word in a string begins with a capital letter.\n",
    "\n"
   ]
  },
  {
   "cell_type": "code",
   "execution_count": 19,
   "metadata": {},
   "outputs": [
    {
     "name": "stdout",
     "output_type": "stream",
     "text": [
      "Enter anything here : hello\n",
      "olleh\n"
     ]
    }
   ],
   "source": [
    "# 1. Take an input from a user as a string then, reverse it.\n",
    "a = input(\"Enter anything here : \")\n",
    "print(a[::-1])"
   ]
  },
  {
   "cell_type": "code",
   "execution_count": 25,
   "metadata": {},
   "outputs": [
    {
     "name": "stdout",
     "output_type": "stream",
     "text": [
      "Enter anything here : 123\n",
      "True\n",
      "It contains only digit\n"
     ]
    }
   ],
   "source": [
    "# 2. Write a program to check if a string contains only digit\n",
    "a = input(\"Enter anything here : \")\n",
    "print(a.isdigit())\n",
    "if a.isdigit() == True:\n",
    "    print(\"It contains only digit\")\n",
    "else:\n",
    "    print(\"It does not contain digits\")"
   ]
  },
  {
   "cell_type": "code",
   "execution_count": 30,
   "metadata": {},
   "outputs": [
    {
     "name": "stdout",
     "output_type": "stream",
     "text": [
      "Enter anything here : no\n",
      "It is not palindrome\n"
     ]
    }
   ],
   "source": [
    "# 3. Write a program to check if a string is palindrome\n",
    "a = input(\"Enter anything here : \")\n",
    "if a == a[::-1]:\n",
    "    print(\"It is palindrome\")\n",
    "else:\n",
    "    print(\"It is not palindrome\")"
   ]
  },
  {
   "cell_type": "code",
   "execution_count": 32,
   "metadata": {},
   "outputs": [
    {
     "name": "stdout",
     "output_type": "stream",
     "text": [
      "Enter anything here : malla reddy\n",
      "The number of vowels in the given string is :  3\n"
     ]
    }
   ],
   "source": [
    "# 4. Write a program to find number of vowels in a string\n",
    "a = input(\"Enter anything here : \")\n",
    "vowels = 0\n",
    "for i in a:\n",
    "    if i ==\"a\" or i ==\"e\" or i ==\"i\" or i ==\"o\" or i ==\"u\" or i ==\"A\" or i ==\"E\" or i ==\"I\" or i ==\"O\" or i ==\"U\":\n",
    "        vowels +=1\n",
    "print(\"The number of vowels in the given string is : \",vowels)"
   ]
  },
  {
   "cell_type": "code",
   "execution_count": 35,
   "metadata": {},
   "outputs": [
    {
     "name": "stdout",
     "output_type": "stream",
     "text": [
      "Enter anything here : Hello World\n",
      "True\n"
     ]
    }
   ],
   "source": [
    "# 5. Write a program to check if every word in a string begins with a capital letter.\n",
    "a = input(\"Enter anything here : \")\n",
    "print(a.istitle())"
   ]
  },
  {
   "cell_type": "code",
   "execution_count": 37,
   "metadata": {},
   "outputs": [
    {
     "name": "stdout",
     "output_type": "stream",
     "text": [
      "['John', 'Rachel', 'Monica', 'Rose']\n"
     ]
    }
   ],
   "source": [
    "#list\n",
    "\n",
    "# Write a program to swap first and forth element\n",
    "\n",
    "a =[\"Rose\",\"Rachel\",\"Monica\",\"John\"]\n",
    "a[0],a[3] = a[3],a[0]\n",
    "print(a)"
   ]
  },
  {
   "cell_type": "code",
   "execution_count": 38,
   "metadata": {},
   "outputs": [
    {
     "name": "stdout",
     "output_type": "stream",
     "text": [
      "10920\n"
     ]
    }
   ],
   "source": [
    "# Write a program to multiply all the numbers in a list\n",
    "b = [13,7,12,10]\n",
    "m = 1\n",
    "for i in b:\n",
    "    m = m * i\n",
    "print(m)"
   ]
  },
  {
   "cell_type": "code",
   "execution_count": 40,
   "metadata": {},
   "outputs": [
    {
     "name": "stdout",
     "output_type": "stream",
     "text": [
      "14\n",
      "14\n"
     ]
    }
   ],
   "source": [
    "# write a program to find the largest number in a list\n",
    "b = [13,7,12,10,14,6]\n",
    "print(max(b))\n",
    "\n",
    "b.sort()\n",
    "print(b[-1])\n"
   ]
  },
  {
   "cell_type": "code",
   "execution_count": null,
   "metadata": {},
   "outputs": [],
   "source": []
  }
 ],
 "metadata": {
  "kernelspec": {
   "display_name": "Python 3",
   "language": "python",
   "name": "python3"
  }
 },
 "nbformat": 4,
 "nbformat_minor": 4
}
